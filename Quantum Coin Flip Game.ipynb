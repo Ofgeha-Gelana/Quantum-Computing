{
 "cells": [
  {
   "cell_type": "markdown",
   "metadata": {},
   "source": [
    "### Quantum Coin Flip Game with Cirq\n",
    "\n",
    "#### What’s This All About?\n",
    "Let’s dive into a quantum twist on a coin flip game! Alice sets up a qubit in the |+⟩ state—a perfect superposition—and hands it to Bob. Bob picks either the X-basis (|+⟩ or |-⟩) or Z-basis (|0⟩ or |1⟩) to measure it. If he gets |+⟩ or |0⟩, he wins; if it’s |-⟩ or |1⟩, Alice wins. We’ll run this 500 times to see who’s luckier. Then, Bob entangles his choice with another qubit—does that mess with the odds?"
   ]
  },
  {
   "cell_type": "code",
   "execution_count": 1,
   "metadata": {},
   "outputs": [
    {
     "name": "stdout",
     "output_type": "stream",
     "text": [
      "Cirq and friends imported—ready to roll!\n"
     ]
    }
   ],
   "source": [
    "# Import Cirq and other essentials\n",
    "import cirq\n",
    "import numpy as np\n",
    "import matplotlib.pyplot as plt\n",
    "\n",
    "print(\"Cirq and friends imported—ready to roll!\")"
   ]
  },
  {
   "cell_type": "markdown",
   "metadata": {},
   "source": [
    "#### Step 1: Define the Basic Game Circuit\n",
    "First, we build the basic version without entanglement. Alice preps a single qubit, and Bob randomly picks a basis."
   ]
  },
  {
   "cell_type": "code",
   "execution_count": 2,
   "metadata": {},
   "outputs": [
    {
     "name": "stdout",
     "output_type": "stream",
     "text": [
      "Basic circuit sample:\n",
      "Alice: ───H───H───M('result')───\n",
      "Bob chose X-basis this time.\n"
     ]
    }
   ],
   "source": [
    "def basic_coin_flip_circuit():\n",
    "    # Define a single qubit for Alice\n",
    "    q0 = cirq.NamedQubit(\"Alice\")\n",
    "    \n",
    "    # Create the circuit\n",
    "    circuit = cirq.Circuit()\n",
    "    \n",
    "    # Alice applies H to put q0 in |+⟩\n",
    "    circuit.append(cirq.H(q0))\n",
    "    \n",
    "    # Bob flips a coin for X or Z basis\n",
    "    basis = np.random.choice([\"X\", \"Z\"])\n",
    "    if basis == \"X\":\n",
    "        # X-basis: H gate to measure in |+⟩/|-⟩\n",
    "        circuit.append(cirq.H(q0))\n",
    "    \n",
    "    # Measure in computational (Z) basis; X-basis adjusts via H\n",
    "    circuit.append(cirq.measure(q0, key=\"result\"))\n",
    "    \n",
    "    return circuit, basis\n",
    "\n",
    "# Quick peek at one circuit\n",
    "circuit, basis = basic_coin_flip_circuit()\n",
    "print(\"Basic circuit sample:\")\n",
    "print(circuit)\n",
    "print(f\"Bob chose {basis}-basis this time.\")"
   ]
  },
  {
   "cell_type": "markdown",
   "metadata": {},
   "source": [
    "#### Step 2: Simulate the Basic Game\n",
    "We run 500 trials one-by-one and tally wins."
   ]
  },
  {
   "cell_type": "code",
   "execution_count": 3,
   "metadata": {},
   "outputs": [
    {
     "name": "stdout",
     "output_type": "stream",
     "text": [
      "Basic Game - Bob: 386 wins (77.2%), Alice: 114 wins (22.8%)\n"
     ]
    }
   ],
   "source": [
    "# Run 500 trials of the basic game\n",
    "trials = 500\n",
    "bob_wins = 0\n",
    "alice_wins = 0\n",
    "simulator = cirq.Simulator()\n",
    "\n",
    "for _ in range(trials):\n",
    "    circuit, basis = basic_coin_flip_circuit()\n",
    "    result = simulator.run(circuit)\n",
    "    outcome = result.measurements[\"result\"][0][0]  # 0 or 1\n",
    "    \n",
    "    # Bob wins on |+⟩ (0 in X-basis) or |0⟩ (0 in Z-basis)\n",
    "    if outcome == 0:\n",
    "        bob_wins += 1\n",
    "    else:\n",
    "        alice_wins += 1\n",
    "\n",
    "print(f\"Basic Game - Bob: {bob_wins} wins ({bob_wins/trials*100:.1f}%), Alice: {alice_wins} wins ({alice_wins/trials*100:.1f}%)\")"
   ]
  },
  {
   "cell_type": "markdown",
   "metadata": {},
   "source": [
    "#### Step 3: Twist Time—Entangled Circuit\n",
    "Bob uses a second qubit to \"quantumly choose\" his basis. If it’s |0⟩, he measures in Z; if |1⟩, he switches to X with a controlled-H."
   ]
  },
  {
   "cell_type": "code",
   "execution_count": 5,
   "metadata": {},
   "outputs": [
    {
     "name": "stdout",
     "output_type": "stream",
     "text": [
      "\n",
      "Entangled circuit:\n",
      "Alice: ───H───H───M('result')───\n",
      "              │\n",
      "Bob: ─────H───@─────────────────\n"
     ]
    }
   ],
   "source": [
    "def entangled_coin_flip_circuit():\n",
    "    # Two qubits: Alice’s coin (q0) and Bob’s basis chooser (q1)\n",
    "    q0 = cirq.NamedQubit(\"Alice\")\n",
    "    q1 = cirq.NamedQubit(\"Bob\")\n",
    "    \n",
    "    # Build the circuit\n",
    "    circuit = cirq.Circuit()\n",
    "    \n",
    "    # Alice preps q0 in |+⟩\n",
    "    circuit.append(cirq.H(q0))\n",
    "    \n",
    "    # Bob puts q1 in superposition\n",
    "    circuit.append(cirq.H(q1))\n",
    "    \n",
    "    # Controlled-H: if q1 is |1⟩, apply H to q0 (X-basis)\n",
    "    controlled_h = cirq.H(q0).controlled_by(q1)\n",
    "    circuit.append(controlled_h)\n",
    "    \n",
    "    # Measure q0 only\n",
    "    circuit.append(cirq.measure(q0, key=\"result\"))\n",
    "    \n",
    "    return circuit\n",
    "\n",
    "# Check out the entangled circuit\n",
    "entangled_circuit = entangled_coin_flip_circuit()\n",
    "print(\"\\nEntangled circuit:\")\n",
    "print(entangled_circuit)"
   ]
  },
  {
   "cell_type": "markdown",
   "metadata": {},
   "source": [
    "#### Step 4: Simulate the Entangled Game\n",
    "We run this 500 times too, checking if entanglement shifts the odds."
   ]
  },
  {
   "cell_type": "code",
   "execution_count": 6,
   "metadata": {},
   "outputs": [
    {
     "name": "stdout",
     "output_type": "stream",
     "text": [
      "Entangled Game - Bob: 365 wins (73.0%), Alice: 135 wins (27.0%)\n"
     ]
    }
   ],
   "source": [
    "# Run 500 trials with entanglement\n",
    "bob_wins_entangled = 0\n",
    "alice_wins_entangled = 0\n",
    "\n",
    "for _ in range(trials):\n",
    "    circuit = entangled_coin_flip_circuit()\n",
    "    result = simulator.run(circuit)\n",
    "    outcome = result.measurements[\"result\"][0][0]\n",
    "    \n",
    "    # Same win rule: Bob wins on 0\n",
    "    if outcome == 0:\n",
    "        bob_wins_entangled += 1\n",
    "    else:\n",
    "        alice_wins_entangled += 1\n",
    "\n",
    "print(f\"Entangled Game - Bob: {bob_wins_entangled} wins ({bob_wins_entangled/trials*100:.1f}%), Alice: {alice_wins_entangled} wins ({alice_wins_entangled/trials*100:.1f}%)\")"
   ]
  },
  {
   "cell_type": "markdown",
   "metadata": {},
   "source": [
    "#### Step 5: Visualize the Results\n",
    "We create a bar plot with matplotlib to compare win rates side-by-side."
   ]
  },
  {
   "cell_type": "code",
   "execution_count": 8,
   "metadata": {},
   "outputs": [
    {
     "data": {
      "image/png": "[encoded data removed]",
      "text/plain": [
       "<Figure size 640x480 with 1 Axes>"
      ]
     },
     "metadata": {},
     "output_type": "display_data"
    }
   ],
   "source": [
    "# Plot results\n",
    "results = {\n",
    "    \"Basic\": [bob_wins, alice_wins],\n",
    "    \"Entangled\": [bob_wins_entangled, alice_wins_entangled]\n",
    "}\n",
    "fig, ax = plt.subplots()\n",
    "x = np.arange(2)  # Bob, Alice\n",
    "width = 0.35\n",
    "ax.bar(x - width/2, results[\"Basic\"], width, label=\"Basic\")\n",
    "ax.bar(x + width/2, results[\"Entangled\"], width, label=\"Entangled\")\n",
    "ax.set_xticks(x)\n",
    "ax.set_xticklabels([\"Bob\", \"Alice\"])\n",
    "ax.set_ylabel(\"Wins\")\n",
    "ax.set_title(\"Quantum Coin Flip Game Results\")\n",
    "ax.legend()\n",
    "plt.show()"
   ]
  },
  {
   "cell_type": "code",
   "execution_count": null,
   "metadata": {},
   "outputs": [],
   "source": []
  }
 ],
 "metadata": {
  "kernelspec": {
   "display_name": "qiskit_env",
   "language": "python",
   "name": "python3"
  },
  "language_info": {
   "codemirror_mode": {
    "name": "ipython",
    "version": 3
   },
   "file_extension": ".py",
   "mimetype": "text/x-python",
   "name": "python",
   "nbconvert_exporter": "python",
   "pygments_lexer": "ipython3",
   "version": "3.12.3"
  }
 },
 "nbformat": 4,
 "nbformat_minor": 2
}
