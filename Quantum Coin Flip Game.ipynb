{
 "cells": [
  {
   "cell_type": "markdown",
   "metadata": {},
   "source": [
    "### Quantum Coin Flip Game with Cirq\n",
    "\n",
    "#### What’s This All About?\n",
    "Let’s dive into a quantum twist on a coin flip game! Alice sets up a qubit in the |+⟩ state—a perfect superposition—and hands it to Bob. Bob picks either the X-basis (|+⟩ or |-⟩) or Z-basis (|0⟩ or |1⟩) to measure it. If he gets |+⟩ or |0⟩, he wins; if it’s |-⟩ or |1⟩, Alice wins. We’ll run this 500 times to see who’s luckier. Then, Bob entangles his choice with another qubit—does that mess with the odds?"
   ]
  },
  {
   "cell_type": "code",
   "execution_count": 2,
   "metadata": {},
   "outputs": [
    {
     "name": "stdout",
     "output_type": "stream",
     "text": [
      "Cirq and friends imported—ready to roll!\n"
     ]
    }
   ],
   "source": [
    "# Import Cirq and other essentials\n",
    "import cirq\n",
    "import numpy as np\n",
    "import matplotlib.pyplot as plt\n",
    "\n",
    "print(\"Cirq and friends imported—ready to roll!\")"
   ]
  },
  {
   "cell_type": "code",
   "execution_count": null,
   "metadata": {},
   "outputs": [],
   "source": []
  }
 ],
 "metadata": {
  "kernelspec": {
   "display_name": "qiskit_env",
   "language": "python",
   "name": "python3"
  },
  "language_info": {
   "codemirror_mode": {
    "name": "ipython",
    "version": 3
   },
   "file_extension": ".py",
   "mimetype": "text/x-python",
   "name": "python",
   "nbconvert_exporter": "python",
   "pygments_lexer": "ipython3",
   "version": "3.12.3"
  }
 },
 "nbformat": 4,
 "nbformat_minor": 2
}
