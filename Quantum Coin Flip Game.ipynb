{
 "cells": [
  {
   "cell_type": "markdown",
   "metadata": {},
   "source": [
    "### Quantum Coin Flip Game with Cirq\n",
    "\n",
    "#### What’s This All About?\n",
    "Let’s dive into a quantum twist on a coin flip game! Alice sets up a qubit in the |+⟩ state—a perfect superposition—and hands it to Bob. Bob picks either the X-basis (|+⟩ or |-⟩) or Z-basis (|0⟩ or |1⟩) to measure it. If he gets |+⟩ or |0⟩, he wins; if it’s |-⟩ or |1⟩, Alice wins. We’ll run this 500 times to see who’s luckier. Then, Bob entangles his choice with another qubit—does that mess with the odds?"
   ]
  },
  {
   "cell_type": "code",
   "execution_count": 2,
   "metadata": {},
   "outputs": [
    {
     "name": "stdout",
     "output_type": "stream",
     "text": [
      "Cirq and friends imported—ready to roll!\n"
     ]
    }
   ],
   "source": [
    "# Import Cirq and other essentials\n",
    "import cirq\n",
    "import numpy as np\n",
    "import matplotlib.pyplot as plt\n",
    "\n",
    "print(\"Cirq and friends imported—ready to roll!\")"
   ]
  },
  {
   "cell_type": "markdown",
   "metadata": {},
   "source": [
    "#### Step 1: Define the Basic Game Circuit\n",
    "First, we build the basic version without entanglement. Alice preps a single qubit, and Bob randomly picks a basis."
   ]
  },
  {
   "cell_type": "code",
   "execution_count": 3,
   "metadata": {},
   "outputs": [
    {
     "name": "stdout",
     "output_type": "stream",
     "text": [
      "Basic circuit sample:\n",
      "Alice: ───H───M('result')───\n",
      "Bob chose Z-basis this time.\n"
     ]
    }
   ],
   "source": [
    "def basic_coin_flip_circuit():\n",
    "    # Define a single qubit for Alice\n",
    "    q0 = cirq.NamedQubit(\"Alice\")\n",
    "    \n",
    "    # Create the circuit\n",
    "    circuit = cirq.Circuit()\n",
    "    \n",
    "    # Alice applies H to put q0 in |+⟩\n",
    "    circuit.append(cirq.H(q0))\n",
    "    \n",
    "    # Bob flips a coin for X or Z basis\n",
    "    basis = np.random.choice([\"X\", \"Z\"])\n",
    "    if basis == \"X\":\n",
    "        # X-basis: H gate to measure in |+⟩/|-⟩\n",
    "        circuit.append(cirq.H(q0))\n",
    "    \n",
    "    # Measure in computational (Z) basis; X-basis adjusts via H\n",
    "    circuit.append(cirq.measure(q0, key=\"result\"))\n",
    "    \n",
    "    return circuit, basis\n",
    "\n",
    "# Quick peek at one circuit\n",
    "circuit, basis = basic_coin_flip_circuit()\n",
    "print(\"Basic circuit sample:\")\n",
    "print(circuit)\n",
    "print(f\"Bob chose {basis}-basis this time.\")"
   ]
  },
  {
   "cell_type": "code",
   "execution_count": null,
   "metadata": {},
   "outputs": [],
   "source": []
  }
 ],
 "metadata": {
  "kernelspec": {
   "display_name": "qiskit_env",
   "language": "python",
   "name": "python3"
  },
  "language_info": {
   "codemirror_mode": {
    "name": "ipython",
    "version": 3
   },
   "file_extension": ".py",
   "mimetype": "text/x-python",
   "name": "python",
   "nbconvert_exporter": "python",
   "pygments_lexer": "ipython3",
   "version": "3.12.3"
  }
 },
 "nbformat": 4,
 "nbformat_minor": 2
}
