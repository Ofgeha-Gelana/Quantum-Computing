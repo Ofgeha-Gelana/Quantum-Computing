{
 "cells": [
  {
   "cell_type": "markdown",
   "metadata": {},
   "source": [
    "# Task 4: Quantum Coin Flip Game\n",
    "\n",
    "This notebook simulates a quantum game where:\n",
    "- Alice prepares a qubit in |+⟩ and sends it to Bob.\n",
    "- Bob randomly chooses to measure it in the X-basis (|+⟩/|-⟩) or Z-basis (|0⟩/|1⟩).\n",
    "- If Bob measures |+⟩ or |0⟩, he wins; else, Alice wins.\n",
    "- We run 500 trials and calculate the win rates.\n",
    "- **Twist**: Bob entangles his measurement choice with another qubit to see if it changes the odds.\n",
    "\n",
    "We’ll use:\n",
    "- **H Gate**: Creates superposition.\n",
    "- **CH Gate**: Controlled-Hadamard for entanglement in the twist.\n",
    "- Qiskit for simulation and visualization."
   ]
  },
  {
   "cell_type": "code",
   "execution_count": 1,
   "metadata": {},
   "outputs": [
    {
     "name": "stdout",
     "output_type": "stream",
     "text": [
      "Libraries imported successfully!\n"
     ]
    }
   ],
   "source": [
    "from qiskit import QuantumCircuit\n",
    "from qiskit_aer import AerSimulator\n",
    "from qiskit.visualization import plot_histogram\n",
    "import matplotlib.pyplot as plt\n",
    "from IPython.display import display\n",
    "import random\n",
    "\n",
    "print(\"Libraries imported successfully!\")"
   ]
  },
  {
   "cell_type": "code",
   "execution_count": 2,
   "metadata": {},
   "outputs": [
    {
     "name": "stdout",
     "output_type": "stream",
     "text": [
      "Basic game circuit function defined.\n"
     ]
    }
   ],
   "source": [
    "def basic_coin_flip_circuit():\n",
    "    # Circuit with 1 qubit and 1 classical bit\n",
    "    qc = QuantumCircuit(1, 1)\n",
    "    \n",
    "    # Alice prepares qubit in |+⟩\n",
    "    qc.h(0)\n",
    "    \n",
    "    # Bob chooses X-basis or Z-basis randomly\n",
    "    basis = random.choice([\"X\", \"Z\"])\n",
    "    if basis == \"X\":\n",
    "        qc.h(0)  # H gate switches to X-basis\n",
    "    \n",
    "    # Measure the qubit\n",
    "    qc.measure(0, 0)\n",
    "    return qc, basis\n",
    "\n",
    "print(\"Basic game circuit function defined.\")"
   ]
  },
  {
   "cell_type": "markdown",
   "metadata": {},
   "source": [
    "## Step 2: Simulate the Basic Game\n",
    "\n",
    "Run the basic game 500 times:\n",
    "- Simulate each circuit with 1 shot.\n",
    "- Bob wins if the outcome is '0' (|+⟩ in X-basis or |0⟩ in Z-basis); Alice wins on '1' (|−⟩ or |1⟩).\n",
    "- Calculate win rates from the results."
   ]
  },
  {
   "cell_type": "code",
   "execution_count": 3,
   "metadata": {},
   "outputs": [
    {
     "name": "stdout",
     "output_type": "stream",
     "text": [
      "Basic Game - Bob: 373 wins (74.6%), Alice: 127 wins (25.4%)\n"
     ]
    }
   ],
   "source": [
    "# Simulate basic game for 500 trials\n",
    "trials = 500\n",
    "simulator = AerSimulator()\n",
    "bob_wins = 0\n",
    "alice_wins = 0\n",
    "\n",
    "for _ in range(trials):\n",
    "    qc, basis = basic_coin_flip_circuit()\n",
    "    job = simulator.run(qc, shots=1)\n",
    "    result = job.result()\n",
    "    outcome = list(result.get_counts().keys())[0]  # '0' or '1'\n",
    "    \n",
    "    # Bob wins if outcome is '0' (|+⟩ in X-basis or |0⟩ in Z-basis)\n",
    "    if outcome == \"0\":\n",
    "        bob_wins += 1\n",
    "    else:\n",
    "        alice_wins += 1\n",
    "\n",
    "print(f\"Basic Game - Bob: {bob_wins} wins ({bob_wins/trials*100:.1f}%), Alice: {alice_wins} wins ({alice_wins/trials*100:.1f}%)\")"
   ]
  },
  {
   "cell_type": "markdown",
   "metadata": {},
   "source": [
    "## Step 3: Define the Entangled Game Circuit\n",
    "\n",
    "Add the twist with entanglement:\n",
    "- 2 qubits: Qubit 0 (Alice’s coin) and Qubit 1 (Bob’s basis chooser).\n",
    "- Alice applies H to Qubit 0 for |+⟩.\n",
    "- Bob applies H to Qubit 1 for superposition.\n",
    "- A Controlled-H (CH) gate applies H to Qubit 0 if Qubit 1 is |1⟩ (X-basis); otherwise, it’s Z-basis.\n",
    "- Measure only Qubit 0.\n",
    "- Note: The CH gate will be transpiled to Aer-supported gates during simulation."
   ]
  },
  {
   "cell_type": "code",
   "execution_count": 9,
   "metadata": {},
   "outputs": [
    {
     "name": "stdout",
     "output_type": "stream",
     "text": [
      "Entangled game circuit function defined.\n"
     ]
    }
   ],
   "source": [
    "def entangled_coin_flip_circuit():\n",
    "    # Circuit with 2 qubits and 1 classical bit\n",
    "    qc = QuantumCircuit(2, 1)\n",
    "    \n",
    "    # Alice prepares Qubit 0 in |+⟩\n",
    "    qc.h(0)\n",
    "    \n",
    "    # Bob puts Qubit 1 in superposition\n",
    "    qc.h(1)\n",
    "    \n",
    "    # Controlled-H: if Qubit 1 is |1⟩, apply H to Qubit 0 (X-basis)\n",
    "    qc.ch(1, 0)\n",
    "    \n",
    "    # Measure Qubit 0\n",
    "    qc.measure(0, 0)\n",
    "    return qc\n",
    "\n",
    "print(\"Entangled game circuit function defined.\")"
   ]
  },
  {
   "cell_type": "markdown",
   "metadata": {},
   "source": [
    "## Step 4: Visualize the Entangled Circuit\n",
    "\n",
    "Display the entangled circuit to confirm:\n",
    "- H on Qubit 0 (Alice), H on Qubit 1 (Bob), CH gate, and measurement on Qubit 0.\n",
    "- Ensures the twist is correctly implemented."
   ]
  },
  {
   "cell_type": "code",
   "execution_count": 5,
   "metadata": {},
   "outputs": [
    {
     "data": {
      "image/png": "[encoded data removed]",
      "text/plain": [
       "<Figure size 370.906x284.278 with 1 Axes>"
      ]
     },
     "metadata": {},
     "output_type": "display_data"
    }
   ],
   "source": [
    "# Display the entangled circuit\n",
    "qc_entangled = entangled_coin_flip_circuit()\n",
    "circuit_diagram = qc_entangled.draw(output='mpl')\n",
    "display(circuit_diagram)"
   ]
  },
  {
   "cell_type": "markdown",
   "metadata": {},
   "source": [
    "## Step 5: Simulate the Entangled Game\n",
    "\n",
    "Run the entangled version 500 times:\n",
    "- Transpile the circuit to AerSimulator’s basis gates to handle the CH gate.\n",
    "- Simulate each circuit with 1 shot.\n",
    "- Bob wins on '0', Alice on '1'.\n",
    "- Compare win rates to the basic game to assess the twist’s impact."
   ]
  },
  {
   "cell_type": "code",
   "execution_count": 10,
   "metadata": {},
   "outputs": [
    {
     "name": "stdout",
     "output_type": "stream",
     "text": [
      "Entangled Game - Bob: 373 wins (74.6%), Alice: 127 wins (25.4%)\n"
     ]
    }
   ],
   "source": [
    "from qiskit import transpile  \n",
    "\n",
    "# Simulate entangled game for 500 trials\n",
    "bob_wins_entangled = 0\n",
    "alice_wins_entangled = 0\n",
    "simulator = AerSimulator()\n",
    "\n",
    "for _ in range(trials):\n",
    "    qc = entangled_coin_flip_circuit()\n",
    "    # Transpile to Aer’s default basis gates (e.g., u, cx)\n",
    "    qc_transpiled = transpile(qc, simulator)\n",
    "    job = simulator.run(qc_transpiled, shots=1)\n",
    "    result = job.result()\n",
    "    outcome = list(result.get_counts().keys())[0]  # '0' or '1'\n",
    "    \n",
    "    # Bob wins if outcome is '0'\n",
    "    if outcome == \"0\":\n",
    "        bob_wins_entangled += 1\n",
    "    else:\n",
    "        alice_wins_entangled += 1\n",
    "\n",
    "print(f\"Entangled Game - Bob: {bob_wins_entangled} wins ({bob_wins_entangled/trials*100:.1f}%), Alice: {alice_wins_entangled} wins ({alice_wins_entangled/trials*100:.1f}%)\")"
   ]
  },
  {
   "cell_type": "markdown",
   "metadata": {},
   "source": [
    "## Step 6: Visualize the Results\n",
    "\n",
    "Plot a histogram-style comparison:\n",
    "- Counts of Bob’s and Alice’s wins for basic vs. entangled games.\n",
    "- Expect ~75% Bob wins in basic, ~50/50 in entangled, showing entanglement’s effect."
   ]
  },
  {
   "cell_type": "code",
   "execution_count": 12,
   "metadata": {},
   "outputs": [
    {
     "data": {
      "image/png": "[encoded data removed]",
      "text/plain": [
       "<Figure size 640x480 with 1 Axes>"
      ]
     },
     "metadata": {},
     "output_type": "display_data"
    }
   ],
   "source": [
    "# Combine counts for visualization\n",
    "counts_basic = {'Bob': bob_wins, 'Alice': alice_wins}\n",
    "counts_entangled = {'Bob': bob_wins_entangled, 'Alice': alice_wins_entangled}\n",
    "\n",
    "# Plot and display\n",
    "fig = plot_histogram([counts_basic, counts_entangled], legend=['Basic', 'Entangled'])\n",
    "display(fig)"
   ]
  },
  {
   "cell_type": "markdown",
   "metadata": {},
   "source": [
    "## Step 7: Analyze the Outcome\n",
    "\n",
    "Interpret the results:\n",
    "- **Basic Game**: Bob wins ~75% due to 100% success in X-basis and 50% in Z-basis.\n",
    "- **Entangled Game**: ~50/50 split, as entanglement mixes basis choices quantumly.\n",
    "- Confirms the twist reduces Bob’s advantage."
   ]
  },
  {
   "cell_type": "code",
   "execution_count": 13,
   "metadata": {},
   "outputs": [
    {
     "name": "stdout",
     "output_type": "stream",
     "text": [
      "Analysis:\n",
      "- Basic Game: Bob’s advantage comes from winning 100% in X-basis and 50% in Z-basis.\n",
      "- Entangled Game: Entanglement evens the odds by quantumly mixing basis choices.\n"
     ]
    }
   ],
   "source": [
    "print(\"Analysis:\")\n",
    "print(\"- Basic Game: Bob’s advantage comes from winning 100% in X-basis and 50% in Z-basis.\")\n",
    "print(\"- Entangled Game: Entanglement evens the odds by quantumly mixing basis choices.\")"
   ]
  }
 ],
 "metadata": {
  "kernelspec": {
   "display_name": "qiskit_env",
   "language": "python",
   "name": "python3"
  },
  "language_info": {
   "codemirror_mode": {
    "name": "ipython",
    "version": 3
   },
   "file_extension": ".py",
   "mimetype": "text/x-python",
   "name": "python",
   "nbconvert_exporter": "python",
   "pygments_lexer": "ipython3",
   "version": "3.12.3"
  }
 },
 "nbformat": 4,
 "nbformat_minor": 2
}
