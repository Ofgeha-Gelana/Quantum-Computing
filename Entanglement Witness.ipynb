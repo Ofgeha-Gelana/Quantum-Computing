{
 "cells": [
  {
   "cell_type": "markdown",
   "metadata": {},
   "source": [
    "# Task 2: Entanglement Witness\n",
    "\n",
    "This notebook tests whether two qubits remain entangled after a probabilistic error:\n",
    "\n",
    "1. Prepare the Bell state (|00⟩ + |11⟩)/√2.\n",
    "2. Introduce a 20% chance of applying an X gate to one qubit.\n",
    "3. Measure only one qubit 1000 times and check if the results are random (50/50).\n",
    "4. If not random, entanglement is broken.\n",
    "\n",
    "We’ll use:\n",
    "- **H Gate**: For superposition.\n",
    "- **CX Gate**: To entangle qubits.\n",
    "- **X Gate**: As the error gate.\n",
    "- **Randomness**: To simulate the 20% probability."
   ]
  },
  {
   "cell_type": "code",
   "execution_count": 1,
   "metadata": {},
   "outputs": [
    {
     "name": "stdout",
     "output_type": "stream",
     "text": [
      "Libraries imported successfully!\n"
     ]
    }
   ],
   "source": [
    "# Import necessary libraries\n",
    "from qiskit import QuantumCircuit\n",
    "from qiskit_aer import AerSimulator\n",
    "from qiskit.visualization import plot_histogram\n",
    "import matplotlib.pyplot as plt\n",
    "from IPython.display import display\n",
    "import numpy as np  # For random number generation\n",
    "\n",
    "print(\"Libraries imported successfully!\")"
   ]
  },
  {
   "cell_type": "code",
   "execution_count": null,
   "metadata": {},
   "outputs": [],
   "source": []
  }
 ],
 "metadata": {
  "kernelspec": {
   "display_name": "qiskit_env",
   "language": "python",
   "name": "python3"
  },
  "language_info": {
   "codemirror_mode": {
    "name": "ipython",
    "version": 3
   },
   "file_extension": ".py",
   "mimetype": "text/x-python",
   "name": "python",
   "nbconvert_exporter": "python",
   "pygments_lexer": "ipython3",
   "version": "3.12.3"
  }
 },
 "nbformat": 4,
 "nbformat_minor": 2
}
