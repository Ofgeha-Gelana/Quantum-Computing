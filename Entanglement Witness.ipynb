{
 "cells": [
  {
   "cell_type": "markdown",
   "metadata": {},
   "source": [
    "# Task 2: Entanglement Witness\n",
    "\n",
    "This notebook tests whether two qubits remain entangled after a probabilistic error:\n",
    "\n",
    "1. Prepare the Bell state (|00⟩ + |11⟩)/√2.\n",
    "2. Introduce a 20% chance of applying an X gate to one qubit.\n",
    "3. Measure only one qubit 1000 times and check if the results are random (50/50).\n",
    "4. If not random, entanglement is broken.\n",
    "\n",
    "We’ll use:\n",
    "- **H Gate**: For superposition.\n",
    "- **CX Gate**: To entangle qubits.\n",
    "- **X Gate**: As the error gate.\n",
    "- **Randomness**: To simulate the 20% probability."
   ]
  },
  {
   "cell_type": "code",
   "execution_count": 1,
   "metadata": {},
   "outputs": [
    {
     "name": "stdout",
     "output_type": "stream",
     "text": [
      "Libraries imported successfully!\n"
     ]
    }
   ],
   "source": [
    "# Import necessary libraries\n",
    "from qiskit import QuantumCircuit\n",
    "from qiskit_aer import AerSimulator\n",
    "from qiskit.visualization import plot_histogram\n",
    "import matplotlib.pyplot as plt\n",
    "from IPython.display import display\n",
    "import numpy as np  # For random number generation\n",
    "\n",
    "print(\"Libraries imported successfully!\")"
   ]
  },
  {
   "cell_type": "markdown",
   "metadata": {},
   "source": [
    "## Step 1: Initialize the Quantum Circuit\n",
    "\n",
    "Create a circuit with:\n",
    "- 2 qubits.\n",
    "- 1 classical bit (since we’re only measuring one qubit).\n",
    "\n",
    "Both qubits start in |0⟩."
   ]
  },
  {
   "cell_type": "code",
   "execution_count": 2,
   "metadata": {},
   "outputs": [
    {
     "name": "stdout",
     "output_type": "stream",
     "text": [
      "Circuit created with 2 qubits and 1 classical bit.\n"
     ]
    }
   ],
   "source": [
    "# Create a circuit with 2 qubits and 1 classical bit\n",
    "qc = QuantumCircuit(2, 1)\n",
    "print(\"Circuit created with 2 qubits and 1 classical bit.\")"
   ]
  },
  {
   "cell_type": "markdown",
   "metadata": {},
   "source": [
    "## Step 2: Prepare the Bell State\n",
    "\n",
    "To create (|00⟩ + |11⟩)/√2:\n",
    "- Apply an **H gate** to Qubit 0 (superposition: |0⟩ → |+⟩).\n",
    "- Apply a **CX gate** with Qubit 0 as control and Qubit 1 as target.\n",
    "\n",
    "This entangles the qubits so they’re either both 0 or both 1."
   ]
  },
  {
   "cell_type": "code",
   "execution_count": 3,
   "metadata": {},
   "outputs": [
    {
     "name": "stdout",
     "output_type": "stream",
     "text": [
      "Bell state (|00⟩ + |11⟩)/√2 prepared.\n"
     ]
    }
   ],
   "source": [
    "# Prepare the Bell state\n",
    "qc.h(0)  # H gate on Qubit 0\n",
    "qc.cx(0, 1)  # CX gate to entangle Qubit 0 and Qubit 1\n",
    "print(\"Bell state (|00⟩ + |11⟩)/√2 prepared.\")"
   ]
  },
  {
   "cell_type": "markdown",
   "metadata": {},
   "source": [
    "## Step 3: Add Probabilistic Error\n",
    "\n",
    "With a 20% chance, apply an **X gate** to Qubit 1:\n",
    "- Use `np.random.random()` to generate a number between 0 and 1.\n",
    "- If it’s < 0.2, apply the X gate (flips Qubit 1).\n",
    "\n",
    "This might break the entanglement by making Qubit 1 independent."
   ]
  },
  {
   "cell_type": "code",
   "execution_count": 20,
   "metadata": {},
   "outputs": [
    {
     "name": "stdout",
     "output_type": "stream",
     "text": [
      "No X gate applied (no error).\n"
     ]
    }
   ],
   "source": [
    "# Add probabilistic X gate to Qubit 1\n",
    "if np.random.random() < 0.2:  # 20% chance\n",
    "    qc.x(1)\n",
    "    print(\"X gate applied to Qubit 1 (error occurred).\")\n",
    "else:\n",
    "    print(\"No X gate applied (no error).\")"
   ]
  },
  {
   "cell_type": "markdown",
   "metadata": {},
   "source": [
    "## Step 4: Measure One Qubit\n",
    "\n",
    "Measure only Qubit 0 into the classical bit:\n",
    "- If still entangled, Qubit 0’s outcome should be random (50/50).\n",
    "- If entanglement is broken, the outcome might be biased."
   ]
  },
  {
   "cell_type": "code",
   "execution_count": 21,
   "metadata": {},
   "outputs": [
    {
     "name": "stdout",
     "output_type": "stream",
     "text": [
      "Measurement added for Qubit 0.\n"
     ]
    }
   ],
   "source": [
    "# Measure Qubit 0\n",
    "qc.measure(0, 0)  # Qubit 0 into classical bit 0\n",
    "print(\"Measurement added for Qubit 0.\")"
   ]
  },
  {
   "cell_type": "markdown",
   "metadata": {},
   "source": [
    "## Step 5: Visualize the Circuit\n",
    "\n",
    "Display the circuit to confirm its structure:\n",
    "- Includes H, CX, possible X, and measurement."
   ]
  },
  {
   "cell_type": "code",
   "execution_count": 22,
   "metadata": {},
   "outputs": [
    {
     "data": {
      "image/png": "[encoded data removed]",
      "text/plain": [
       "<Figure size 705.35x284.278 with 1 Axes>"
      ]
     },
     "metadata": {},
     "output_type": "display_data"
    }
   ],
   "source": [
    "# Display the circuit diagram\n",
    "circuit_diagram = qc.draw(output='mpl')\n",
    "display(circuit_diagram)"
   ]
  },
  {
   "cell_type": "markdown",
   "metadata": {},
   "source": [
    "## Step 6: Simulate the Circuit\n",
    "\n",
    "Run the circuit 1000 times with **AerSimulator**:\n",
    "- Count outcomes of Qubit 0 (0 or 1).\n",
    "- Check if they’re ~50/50 (entangled) or biased (not entangled)."
   ]
  },
  {
   "cell_type": "code",
   "execution_count": 23,
   "metadata": {},
   "outputs": [
    {
     "name": "stdout",
     "output_type": "stream",
     "text": [
      "Simulation completed. Counts: {'0': 509, '1': 491}\n"
     ]
    }
   ],
   "source": [
    "# Simulate the circuit with 1000 shots\n",
    "simulator = AerSimulator()\n",
    "job = simulator.run(qc, shots=1000)\n",
    "result = job.result()\n",
    "counts = result.get_counts()\n",
    "print(\"Simulation completed. Counts:\", counts)"
   ]
  },
  {
   "cell_type": "markdown",
   "metadata": {},
   "source": [
    "## Step 7: Visualize and Analyze Results\n",
    "\n",
    "Plot the histogram of Qubit 0’s measurements:\n",
    "- **Entangled (no X)**: 500 '0' and 500 '1' (random).\n",
    "- **Not Entangled (X applied)**: Biased toward '0' or '1', depending on Qubit 1’s state after X.\n",
    "\n",
    "This shows entanglement breaking when one qubit is modified."
   ]
  },
  {
   "cell_type": "code",
   "execution_count": 24,
   "metadata": {},
   "outputs": [
    {
     "data": {
      "image/png": "[encoded data removed]",
      "text/plain": [
       "<Figure size 640x480 with 1 Axes>"
      ]
     },
     "metadata": {},
     "output_type": "display_data"
    }
   ],
   "source": [
    "# Plot and display the histogram\n",
    "fig = plot_histogram(counts)\n",
    "display(fig)"
   ]
  },
  {
   "cell_type": "code",
   "execution_count": null,
   "metadata": {},
   "outputs": [],
   "source": []
  }
 ],
 "metadata": {
  "kernelspec": {
   "display_name": "qiskit_env",
   "language": "python",
   "name": "python3"
  },
  "language_info": {
   "codemirror_mode": {
    "name": "ipython",
    "version": 3
   },
   "file_extension": ".py",
   "mimetype": "text/x-python",
   "name": "python",
   "nbconvert_exporter": "python",
   "pygments_lexer": "ipython3",
   "version": "3.12.3"
  }
 },
 "nbformat": 4,
 "nbformat_minor": 2
}
