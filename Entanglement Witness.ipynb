{
 "cells": [
  {
   "cell_type": "markdown",
   "metadata": {},
   "source": [
    "# Task 2: Entanglement Witness\n",
    "\n",
    "This notebook tests whether two qubits remain entangled after a probabilistic error:\n",
    "\n",
    "1. Prepare the Bell state (|00⟩ + |11⟩)/√2.\n",
    "2. Introduce a 20% chance of applying an X gate to one qubit.\n",
    "3. Measure only one qubit 1000 times and check if the results are random (50/50).\n",
    "4. If not random, entanglement is broken.\n",
    "\n",
    "We’ll use:\n",
    "- **H Gate**: For superposition.\n",
    "- **CX Gate**: To entangle qubits.\n",
    "- **X Gate**: As the error gate.\n",
    "- **Randomness**: To simulate the 20% probability."
   ]
  },
  {
   "cell_type": "code",
   "execution_count": 1,
   "metadata": {},
   "outputs": [
    {
     "name": "stdout",
     "output_type": "stream",
     "text": [
      "Libraries imported successfully!\n"
     ]
    }
   ],
   "source": [
    "# Import necessary libraries\n",
    "from qiskit import QuantumCircuit\n",
    "from qiskit_aer import AerSimulator\n",
    "from qiskit.visualization import plot_histogram\n",
    "import matplotlib.pyplot as plt\n",
    "from IPython.display import display\n",
    "import numpy as np  # For random number generation\n",
    "\n",
    "print(\"Libraries imported successfully!\")"
   ]
  },
  {
   "cell_type": "markdown",
   "metadata": {},
   "source": [
    "## Step 1: Initialize the Quantum Circuit\n",
    "\n",
    "Create a circuit with:\n",
    "- 2 qubits.\n",
    "- 1 classical bit (since we’re only measuring one qubit).\n",
    "\n",
    "Both qubits start in |0⟩."
   ]
  },
  {
   "cell_type": "code",
   "execution_count": 2,
   "metadata": {},
   "outputs": [
    {
     "name": "stdout",
     "output_type": "stream",
     "text": [
      "Circuit created with 2 qubits and 1 classical bit.\n"
     ]
    }
   ],
   "source": [
    "# Create a circuit with 2 qubits and 1 classical bit\n",
    "qc = QuantumCircuit(2, 1)\n",
    "print(\"Circuit created with 2 qubits and 1 classical bit.\")"
   ]
  },
  {
   "cell_type": "markdown",
   "metadata": {},
   "source": [
    "## Step 2: Prepare the Bell State\n",
    "\n",
    "To create (|00⟩ + |11⟩)/√2:\n",
    "- Apply an **H gate** to Qubit 0 (superposition: |0⟩ → |+⟩).\n",
    "- Apply a **CX gate** with Qubit 0 as control and Qubit 1 as target.\n",
    "\n",
    "This entangles the qubits so they’re either both 0 or both 1."
   ]
  },
  {
   "cell_type": "code",
   "execution_count": 3,
   "metadata": {},
   "outputs": [
    {
     "name": "stdout",
     "output_type": "stream",
     "text": [
      "Bell state (|00⟩ + |11⟩)/√2 prepared.\n"
     ]
    }
   ],
   "source": [
    "# Prepare the Bell state\n",
    "qc.h(0)  # H gate on Qubit 0\n",
    "qc.cx(0, 1)  # CX gate to entangle Qubit 0 and Qubit 1\n",
    "print(\"Bell state (|00⟩ + |11⟩)/√2 prepared.\")"
   ]
  },
  {
   "cell_type": "code",
   "execution_count": null,
   "metadata": {},
   "outputs": [],
   "source": []
  }
 ],
 "metadata": {
  "kernelspec": {
   "display_name": "qiskit_env",
   "language": "python",
   "name": "python3"
  },
  "language_info": {
   "codemirror_mode": {
    "name": "ipython",
    "version": 3
   },
   "file_extension": ".py",
   "mimetype": "text/x-python",
   "name": "python",
   "nbconvert_exporter": "python",
   "pygments_lexer": "ipython3",
   "version": "3.12.3"
  }
 },
 "nbformat": 4,
 "nbformat_minor": 2
}
