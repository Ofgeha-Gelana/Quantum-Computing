{
 "cells": [
  {
   "cell_type": "markdown",
   "metadata": {},
   "source": [
    "# Forced Superposition: A 2-Qubit Quantum Circuit\n",
    "\n",
    "This notebook demonstrates a quantum circuit with 2 qubits where:\n",
    "- **Qubit 0** starts in the |+⟩ state (superposition of |0⟩ and |1⟩).\n",
    "- **Qubit 1** starts in the |1⟩ state.\n",
    "- The qubits are entangled so that measuring Qubit 0 always gives the opposite result of Qubit 1.\n",
    "- We simulate this 1000 times and plot the results.\n",
    "\n",
    "We’ll use **Qiskit**, a Python library for quantum computing, with the following gates:\n",
    "- **H Gate**: Creates superposition.\n",
    "- **X Gate**: Flips a qubit.\n",
    "- **CX Gate**: Entangles qubits."
   ]
  },
  {
   "cell_type": "code",
   "execution_count": null,
   "metadata": {
    "vscode": {
     "languageId": "plaintext"
    }
   },
   "outputs": [],
   "source": []
  }
 ],
 "metadata": {
  "language_info": {
   "name": "python"
  }
 },
 "nbformat": 4,
 "nbformat_minor": 2
}
