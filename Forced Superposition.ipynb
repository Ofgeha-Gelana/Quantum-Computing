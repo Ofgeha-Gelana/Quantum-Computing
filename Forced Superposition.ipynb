{
 "cells": [
  {
   "cell_type": "markdown",
   "metadata": {},
   "source": [
    "# Forced Superposition: A 2-Qubit Quantum Circuit\n",
    "\n",
    "This notebook demonstrates a quantum circuit with 2 qubits where:\n",
    "- **Qubit 0** starts in the |+⟩ state (superposition of |0⟩ and |1⟩).\n",
    "- **Qubit 1** starts in the |1⟩ state.\n",
    "- The qubits are entangled so that measuring Qubit 0 always gives the opposite result of Qubit 1.\n",
    "- We simulate this 1000 times and plot the results.\n",
    "\n",
    "We’ll use **Qiskit**, a Python library for quantum computing, with the following gates:\n",
    "- **H Gate**: Creates superposition.\n",
    "- **X Gate**: Flips a qubit.\n",
    "- **CX Gate**: Entangles qubits."
   ]
  },
  {
   "cell_type": "code",
   "execution_count": 1,
   "metadata": {},
   "outputs": [
    {
     "name": "stdout",
     "output_type": "stream",
     "text": [
      "Libraries imported successfully!\n"
     ]
    }
   ],
   "source": [
    "# Import necessary libraries\n",
    "from qiskit import QuantumCircuit\n",
    "from qiskit_aer import AerSimulator\n",
    "from qiskit.visualization import plot_histogram\n",
    "import matplotlib.pyplot as plt\n",
    "from IPython.display import display\n",
    "\n",
    "print(\"Libraries imported successfully!\")"
   ]
  },
  {
   "cell_type": "markdown",
   "metadata": {},
   "source": [
    "## Step 1: Initialize the Quantum Circuit\n",
    "\n",
    "We create a circuit with:\n",
    "- 2 qubits (quantum bits).\n",
    "- 2 classical bits (to store measurement results).\n",
    "\n",
    "By default, qubits start in the |0⟩ state."
   ]
  },
  {
   "cell_type": "code",
   "execution_count": null,
   "metadata": {},
   "outputs": [],
   "source": [
    "# Create a circuit with 2 qubits and 2 classical bits\n",
    "qc = QuantumCircuit(2, 2)\n",
    "print(\"Circuit created with 2 qubits and 2 classical bits.\")"
   ]
  }
 ],
 "metadata": {
  "kernelspec": {
   "display_name": "qiskit_env",
   "language": "python",
   "name": "python3"
  },
  "language_info": {
   "codemirror_mode": {
    "name": "ipython",
    "version": 3
   },
   "file_extension": ".py",
   "mimetype": "text/x-python",
   "name": "python",
   "nbconvert_exporter": "python",
   "pygments_lexer": "ipython3",
   "version": "3.12.3"
  }
 },
 "nbformat": 4,
 "nbformat_minor": 2
}
