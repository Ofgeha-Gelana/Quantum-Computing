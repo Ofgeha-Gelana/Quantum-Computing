{
 "cells": [
  {
   "cell_type": "markdown",
   "metadata": {},
   "source": [
    "# Forced Superposition: A 2-Qubit Quantum Circuit\n",
    "\n",
    "This notebook demonstrates a quantum circuit with 2 qubits where:\n",
    "- **Qubit 0** starts in the |+⟩ state (superposition of |0⟩ and |1⟩).\n",
    "- **Qubit 1** starts in the |1⟩ state.\n",
    "- The qubits are entangled so that measuring Qubit 0 always gives the opposite result of Qubit 1.\n",
    "- We simulate this 1000 times and plot the results.\n",
    "\n",
    "We’ll use **Qiskit**, a Python library for quantum computing, with the following gates:\n",
    "- **H Gate**: Creates superposition.\n",
    "- **X Gate**: Flips a qubit.\n",
    "- **CX Gate**: Entangles qubits."
   ]
  },
  {
   "cell_type": "code",
   "execution_count": 1,
   "metadata": {},
   "outputs": [
    {
     "name": "stdout",
     "output_type": "stream",
     "text": [
      "Libraries imported successfully!\n"
     ]
    }
   ],
   "source": [
    "# Import necessary libraries\n",
    "from qiskit import QuantumCircuit\n",
    "from qiskit_aer import AerSimulator\n",
    "from qiskit.visualization import plot_histogram\n",
    "import matplotlib.pyplot as plt\n",
    "from IPython.display import display\n",
    "\n",
    "print(\"Libraries imported successfully!\")"
   ]
  },
  {
   "cell_type": "markdown",
   "metadata": {},
   "source": [
    "## Step 1: Initialize the Quantum Circuit\n",
    "\n",
    "We create a circuit with:\n",
    "- 2 qubits (quantum bits).\n",
    "- 2 classical bits (to store measurement results).\n",
    "\n",
    "By default, qubits start in the |0⟩ state."
   ]
  },
  {
   "cell_type": "code",
   "execution_count": 2,
   "metadata": {},
   "outputs": [
    {
     "name": "stdout",
     "output_type": "stream",
     "text": [
      "Circuit created with 2 qubits and 2 classical bits.\n"
     ]
    }
   ],
   "source": [
    "# Create a circuit with 2 qubits and 2 classical bits\n",
    "qc = QuantumCircuit(2, 2)\n",
    "print(\"Circuit created with 2 qubits and 2 classical bits.\")"
   ]
  },
  {
   "cell_type": "markdown",
   "metadata": {},
   "source": [
    "## Step 2: Superposition on Qubit 0\n",
    "\n",
    "Apply the **Hadamard (H) gate** to Qubit 0:\n",
    "- Transforms |0⟩ to |+⟩ = (|0⟩ + |1⟩)/√2.\n",
    "- This puts Qubit 0 in a 50/50 superposition of |0⟩ and |1⟩.\n",
    "\n",
    "Qubit 1 remains |0⟩ for now."
   ]
  },
  {
   "cell_type": "code",
   "execution_count": 3,
   "metadata": {},
   "outputs": [
    {
     "name": "stdout",
     "output_type": "stream",
     "text": [
      "H gate applied to Qubit 0.\n"
     ]
    }
   ],
   "source": [
    "# Apply H gate to Qubit 0\n",
    "qc.h(0)\n",
    "print(\"H gate applied to Qubit 0.\")"
   ]
  },
  {
   "cell_type": "markdown",
   "metadata": {},
   "source": [
    "## Step 3: Set Qubit 1 to |1⟩\n",
    "\n",
    "Apply the **X gate** to Qubit 1:\n",
    "- Flips |0⟩ to |1⟩.\n",
    "\n",
    "Now:\n",
    "- Qubit 0 is in |+⟩ (superposition).\n",
    "- Qubit 1 is in |1⟩."
   ]
  },
  {
   "cell_type": "code",
   "execution_count": 4,
   "metadata": {},
   "outputs": [
    {
     "name": "stdout",
     "output_type": "stream",
     "text": [
      "X gate applied to Qubit 1.\n"
     ]
    }
   ],
   "source": [
    "# Apply X gate to Qubit 1\n",
    "qc.x(1)\n",
    "print(\"X gate applied to Qubit 1.\")"
   ]
  },
  {
   "cell_type": "markdown",
   "metadata": {},
   "source": [
    "## Step 4: Entangle the Qubits\n",
    "\n",
    "Apply the **Controlled-NOT (CX) gate**:\n",
    "- Qubit 0 is the control.\n",
    "- Qubit 1 is the target.\n",
    "- If Qubit 0 is |1⟩, Qubit 1 flips; if Qubit 0 is |0⟩, Qubit 1 stays.\n",
    "\n",
    "Since Qubit 0 is in superposition, this entangles the qubits into (|01⟩ + |10⟩)/√2, meaning their outcomes will be opposite."
   ]
  },
  {
   "cell_type": "code",
   "execution_count": 5,
   "metadata": {},
   "outputs": [
    {
     "name": "stdout",
     "output_type": "stream",
     "text": [
      "CX gate applied to entangle Qubit 0 and Qubit 1.\n"
     ]
    }
   ],
   "source": [
    "# Apply CX gate (Qubit 0 controls Qubit 1)\n",
    "qc.cx(0, 1)\n",
    "print(\"CX gate applied to entangle Qubit 0 and Qubit 1.\")"
   ]
  },
  {
   "cell_type": "markdown",
   "metadata": {},
   "source": [
    "## Step 5: Measure the Qubits\n",
    "\n",
    "Measure both qubits and store results in classical bits:\n",
    "- Qubit 0 → Classical bit 0.\n",
    "- Qubit 1 → Classical bit 1.\n",
    "\n",
    "Due to entanglement, we expect only '01' (Q0=0, Q1=1) or '10' (Q0=1, Q1=0)."
   ]
  },
  {
   "cell_type": "code",
   "execution_count": 6,
   "metadata": {},
   "outputs": [
    {
     "name": "stdout",
     "output_type": "stream",
     "text": [
      "Measurement added to the circuit.\n"
     ]
    }
   ],
   "source": [
    "# Measure both qubits\n",
    "qc.measure([0, 1], [0, 1])\n",
    "print(\"Measurement added to the circuit.\")"
   ]
  },
  {
   "cell_type": "markdown",
   "metadata": {},
   "source": [
    "## Step 6: Simulate the Circuit\n",
    "\n",
    "Use the **AerSimulator** to run the circuit 1000 times (shots):\n",
    "- Simulates quantum behavior on a classical computer.\n",
    "- Counts how often each outcome ('01' or '10') occurs."
   ]
  },
  {
   "cell_type": "code",
   "execution_count": 7,
   "metadata": {},
   "outputs": [
    {
     "name": "stdout",
     "output_type": "stream",
     "text": [
      "Simulation completed. Counts: {'01': 493, '10': 507}\n"
     ]
    }
   ],
   "source": [
    "# Simulate the circuit with 1000 shots\n",
    "simulator = AerSimulator()\n",
    "job = simulator.run(qc, shots=1000)\n",
    "result = job.result()\n",
    "counts = result.get_counts()\n",
    "print(\"Simulation completed. Counts:\", counts)"
   ]
  },
  {
   "cell_type": "markdown",
   "metadata": {},
   "source": [
    "## Step 7: Visualize the Results\n",
    "\n",
    "Plot a histogram of the measurement counts:\n",
    "- Expect ~500 counts each for '01' and '10'.\n",
    "- Confirms Qubit 0 and Qubit 1 are always opposite."
   ]
  },
  {
   "cell_type": "code",
   "execution_count": 8,
   "metadata": {},
   "outputs": [
    {
     "data": {
      "image/png": "[encoded data removed]",
      "text/plain": [
       "<Figure size 640x480 with 1 Axes>"
      ]
     },
     "metadata": {},
     "output_type": "display_data"
    }
   ],
   "source": [
    "# Plot and display the histogram\n",
    "fig = plot_histogram(counts)\n",
    "display(fig)"
   ]
  },
  {
   "cell_type": "code",
   "execution_count": null,
   "metadata": {},
   "outputs": [],
   "source": []
  }
 ],
 "metadata": {
  "kernelspec": {
   "display_name": "qiskit_env",
   "language": "python",
   "name": "python3"
  },
  "language_info": {
   "codemirror_mode": {
    "name": "ipython",
    "version": 3
   },
   "file_extension": ".py",
   "mimetype": "text/x-python",
   "name": "python",
   "nbconvert_exporter": "python",
   "pygments_lexer": "ipython3",
   "version": "3.12.3"
  }
 },
 "nbformat": 4,
 "nbformat_minor": 2
}
