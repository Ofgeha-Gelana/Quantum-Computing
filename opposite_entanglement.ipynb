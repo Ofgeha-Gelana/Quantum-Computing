{
 "cells": [
  {
   "cell_type": "markdown",
   "metadata": {},
   "source": [
    "# Task 3: Opposite-Measurement Entanglement\n",
    "\n",
    "This notebook creates a quantum circuit where two qubits are entangled such that:\n",
    "- Measuring one qubit always gives the opposite result of the other (e.g., if Qubit 0 is 0, Qubit 1 is 1, and vice versa).\n",
    "- After 1000 shots, the histogram should show only '01' and '10', never '00' or '11'.\n",
    "\n",
    "We’ll use:\n",
    "- **H Gate**: Creates superposition.\n",
    "- **X Gate**: Flips a qubit.\n",
    "- **CX Gate**: Entangles qubits.\n",
    "\n",
    "The target state is (|01⟩ + |10⟩)/√2."
   ]
  },
  {
   "cell_type": "code",
   "execution_count": 1,
   "metadata": {},
   "outputs": [
    {
     "name": "stdout",
     "output_type": "stream",
     "text": [
      "Libraries imported successfully!\n"
     ]
    }
   ],
   "source": [
    "# Import necessary libraries\n",
    "from qiskit import QuantumCircuit\n",
    "from qiskit_aer import AerSimulator\n",
    "from qiskit.visualization import plot_histogram\n",
    "import matplotlib.pyplot as plt\n",
    "from IPython.display import display\n",
    "\n",
    "print(\"Libraries imported successfully!\")"
   ]
  },
  {
   "cell_type": "markdown",
   "metadata": {},
   "source": [
    "## Step 1: Initialize the Quantum Circuit\n",
    "\n",
    "Create a circuit with:\n",
    "- 2 qubits.\n",
    "- 2 classical bits (to measure both qubits).\n",
    "\n",
    "Both qubits start in |0⟩."
   ]
  },
  {
   "cell_type": "code",
   "execution_count": 2,
   "metadata": {},
   "outputs": [
    {
     "name": "stdout",
     "output_type": "stream",
     "text": [
      "Circuit created with 2 qubits and 2 classical bits.\n"
     ]
    }
   ],
   "source": [
    "# Create a circuit with 2 qubits and 2 classical bits\n",
    "qc = QuantumCircuit(2, 2)\n",
    "print(\"Circuit created with 2 qubits and 2 classical bits.\")"
   ]
  },
  {
   "cell_type": "markdown",
   "metadata": {},
   "source": [
    "## Step 2: Create Superposition on Qubit 0\n",
    "\n",
    "Apply the **Hadamard (H) gate** to Qubit 0:\n",
    "- Transforms |0⟩ to |+⟩ = (|0⟩ + |1⟩)/√2.\n",
    "- Qubit 0 is now in superposition.\n",
    "- Qubit 1 stays |0⟩ for now."
   ]
  },
  {
   "cell_type": "code",
   "execution_count": 3,
   "metadata": {},
   "outputs": [
    {
     "name": "stdout",
     "output_type": "stream",
     "text": [
      "H gate applied to Qubit 0.\n"
     ]
    }
   ],
   "source": [
    "# Apply H gate to Qubit 0\n",
    "qc.h(0)\n",
    "print(\"H gate applied to Qubit 0.\")"
   ]
  },
  {
   "cell_type": "markdown",
   "metadata": {},
   "source": [
    "## Step 3: Flip Qubit 1\n",
    "\n",
    "Apply the **X gate** to Qubit 1:\n",
    "- Flips |0⟩ to |1⟩.\n",
    "\n",
    "Now:\n",
    "- Qubit 0 is |+⟩ (superposition).\n",
    "- Qubit 1 is |1⟩."
   ]
  },
  {
   "cell_type": "code",
   "execution_count": 4,
   "metadata": {},
   "outputs": [
    {
     "name": "stdout",
     "output_type": "stream",
     "text": [
      "X gate applied to Qubit 1.\n"
     ]
    }
   ],
   "source": [
    "# Apply X gate to Qubit 1\n",
    "qc.x(1)\n",
    "print(\"X gate applied to Qubit 1.\")"
   ]
  },
  {
   "cell_type": "markdown",
   "metadata": {},
   "source": [
    "## Step 4: Entangle the Qubits\n",
    "\n",
    "Apply the **Controlled-NOT (CX) gate**:\n",
    "- Qubit 0 as control.\n",
    "- Qubit 1 as target.\n",
    "- If Qubit 0 is |1⟩, Qubit 1 flips; if Qubit 0 is |0⟩, Qubit 1 stays.\n",
    "\n",
    "This creates (|01⟩ + |10⟩)/√2, where Qubit 0 and Qubit 1 are always opposite."
   ]
  },
  {
   "cell_type": "code",
   "execution_count": 5,
   "metadata": {},
   "outputs": [
    {
     "name": "stdout",
     "output_type": "stream",
     "text": [
      "CX gate applied to entangle Qubit 0 and Qubit 1.\n"
     ]
    }
   ],
   "source": [
    "# Apply CX gate (Qubit 0 controls Qubit 1)\n",
    "qc.cx(0, 1)\n",
    "print(\"CX gate applied to entangle Qubit 0 and Qubit 1.\")"
   ]
  },
  {
   "cell_type": "markdown",
   "metadata": {},
   "source": [
    "## Step 5: Measure Both Qubits\n",
    "\n",
    "Measure both qubits into classical bits:\n",
    "- Qubit 0 → Classical bit 0.\n",
    "- Qubit 1 → Classical bit 1.\n",
    "\n",
    "We expect only '01' and '10' due to the anti-correlated entanglement."
   ]
  },
  {
   "cell_type": "code",
   "execution_count": 6,
   "metadata": {},
   "outputs": [
    {
     "name": "stdout",
     "output_type": "stream",
     "text": [
      "Measurement added for both qubits.\n"
     ]
    }
   ],
   "source": [
    "# Measure both qubits\n",
    "qc.measure([0, 1], [0, 1])\n",
    "print(\"Measurement added for both qubits.\")"
   ]
  },
  {
   "cell_type": "markdown",
   "metadata": {},
   "source": [
    "## Step 6: Visualize the Circuit\n",
    "\n",
    "Display the circuit to confirm:\n",
    "- H on Qubit 0, X on Qubit 1, CX, and measurements."
   ]
  },
  {
   "cell_type": "code",
   "execution_count": 7,
   "metadata": {},
   "outputs": [
    {
     "data": {
      "image/png": "[encoded data removed]",
      "text/plain": [
       "<Figure size 454.517x284.278 with 1 Axes>"
      ]
     },
     "metadata": {},
     "output_type": "display_data"
    }
   ],
   "source": [
    "# Display the circuit diagram\n",
    "circuit_diagram = qc.draw(output='mpl')\n",
    "display(circuit_diagram)"
   ]
  },
  {
   "cell_type": "markdown",
   "metadata": {},
   "source": [
    "## Step 7: Simulate the Circuit\n",
    "\n",
    "Run the circuit 1000 times with **AerSimulator**:\n",
    "- Counts should show only '01' and '10', each ~500 times."
   ]
  },
  {
   "cell_type": "code",
   "execution_count": 8,
   "metadata": {},
   "outputs": [
    {
     "name": "stdout",
     "output_type": "stream",
     "text": [
      "Simulation completed. Counts: {'10': 493, '01': 507}\n"
     ]
    }
   ],
   "source": [
    "# Simulate the circuit with 1000 shots\n",
    "simulator = AerSimulator()\n",
    "job = simulator.run(qc, shots=1000)\n",
    "result = job.result()\n",
    "counts = result.get_counts()\n",
    "print(\"Simulation completed. Counts:\", counts)"
   ]
  },
  {
   "cell_type": "markdown",
   "metadata": {},
   "source": [
    "## Step 8: Visualize the Results\n",
    "\n",
    "Plot the histogram:\n",
    "- Expect only '01' (Q0=0, Q1=1) and '10' (Q0=1, Q1=0), ~50/50.\n",
    "- No '00' or '11', confirming opposite measurements."
   ]
  },
  {
   "cell_type": "code",
   "execution_count": 9,
   "metadata": {},
   "outputs": [
    {
     "data": {
      "image/png": "[encoded data removed]",
      "text/plain": [
       "<Figure size 640x480 with 1 Axes>"
      ]
     },
     "metadata": {},
     "output_type": "display_data"
    }
   ],
   "source": [
    "# Plot and display the histogram\n",
    "fig = plot_histogram(counts)\n",
    "display(fig)"
   ]
  }
 ],
 "metadata": {
  "kernelspec": {
   "display_name": "qiskit_env",
   "language": "python",
   "name": "python3"
  },
  "language_info": {
   "codemirror_mode": {
    "name": "ipython",
    "version": 3
   },
   "file_extension": ".py",
   "mimetype": "text/x-python",
   "name": "python",
   "nbconvert_exporter": "python",
   "pygments_lexer": "ipython3",
   "version": "3.12.3"
  }
 },
 "nbformat": 4,
 "nbformat_minor": 2
}
