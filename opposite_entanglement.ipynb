{
 "cells": [
  {
   "cell_type": "markdown",
   "metadata": {},
   "source": [
    "# Task 3: Opposite-Measurement Entanglement\n",
    "\n",
    "This notebook creates a quantum circuit where two qubits are entangled such that:\n",
    "- Measuring one qubit always gives the opposite result of the other (e.g., if Qubit 0 is 0, Qubit 1 is 1, and vice versa).\n",
    "- After 1000 shots, the histogram should show only '01' and '10', never '00' or '11'.\n",
    "\n",
    "We’ll use:\n",
    "- **H Gate**: Creates superposition.\n",
    "- **X Gate**: Flips a qubit.\n",
    "- **CX Gate**: Entangles qubits.\n",
    "\n",
    "The target state is (|01⟩ + |10⟩)/√2."
   ]
  },
  {
   "cell_type": "code",
   "execution_count": 1,
   "metadata": {},
   "outputs": [
    {
     "name": "stdout",
     "output_type": "stream",
     "text": [
      "Libraries imported successfully!\n"
     ]
    }
   ],
   "source": [
    "# Import necessary libraries\n",
    "from qiskit import QuantumCircuit\n",
    "from qiskit_aer import AerSimulator\n",
    "from qiskit.visualization import plot_histogram\n",
    "import matplotlib.pyplot as plt\n",
    "from IPython.display import display\n",
    "\n",
    "print(\"Libraries imported successfully!\")"
   ]
  },
  {
   "cell_type": "code",
   "execution_count": null,
   "metadata": {},
   "outputs": [],
   "source": []
  }
 ],
 "metadata": {
  "kernelspec": {
   "display_name": "qiskit_env",
   "language": "python",
   "name": "python3"
  },
  "language_info": {
   "codemirror_mode": {
    "name": "ipython",
    "version": 3
   },
   "file_extension": ".py",
   "mimetype": "text/x-python",
   "name": "python",
   "nbconvert_exporter": "python",
   "pygments_lexer": "ipython3",
   "version": "3.12.3"
  }
 },
 "nbformat": 4,
 "nbformat_minor": 2
}
